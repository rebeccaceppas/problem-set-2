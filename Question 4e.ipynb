{
 "cells": [
  {
   "cell_type": "code",
   "execution_count": 15,
   "metadata": {},
   "outputs": [],
   "source": [
    "import math\n",
    "import matplotlib.pyplot as plt"
   ]
  },
  {
   "cell_type": "code",
   "execution_count": 24,
   "metadata": {},
   "outputs": [],
   "source": [
    "def v_blackhole(r):\n",
    "    vbh=131.2*r**(-1/2)\n",
    "    return vbh"
   ]
  },
  {
   "cell_type": "code",
   "execution_count": 25,
   "metadata": {},
   "outputs": [],
   "source": [
    "def v_starcluster(r):\n",
    "    vsc=131.2*r**(0.05)\n",
    "    return vsc"
   ]
  },
  {
   "cell_type": "code",
   "execution_count": 26,
   "metadata": {},
   "outputs": [],
   "source": [
    "def v_combined(r):\n",
    "    vc=131.2*(((r**1.1)+1)/r)**0.5\n",
    "    return vc"
   ]
  },
  {
   "cell_type": "code",
   "execution_count": 38,
   "metadata": {},
   "outputs": [],
   "source": [
    "r=0.001\n",
    "\n",
    "x=[]\n",
    "\n",
    "while r<50:\n",
    "    x.append(r)\n",
    "    r=r+0.01"
   ]
  },
  {
   "cell_type": "code",
   "execution_count": 39,
   "metadata": {},
   "outputs": [],
   "source": [
    "circular_velocity_BH = []\n",
    "\n",
    "for i in range(0,len(x)):\n",
    "    vbh=v_blackhole(x[i])\n",
    "    circular_velocity_BH.append(vbh)\n",
    "    "
   ]
  },
  {
   "cell_type": "code",
   "execution_count": 40,
   "metadata": {},
   "outputs": [],
   "source": [
    "circular_velocity_SC = []\n",
    "\n",
    "for i in range(0,len(x)):\n",
    "    vsc=v_starcluster(x[i])\n",
    "    circular_velocity_SC.append(vsc)"
   ]
  },
  {
   "cell_type": "code",
   "execution_count": 41,
   "metadata": {},
   "outputs": [],
   "source": [
    "circular_velocity_C = []\n",
    "\n",
    "for i in range(0,len(x)):\n",
    "    vc=v_combined(x[i])\n",
    "    circular_velocity_C.append(vc)"
   ]
  },
  {
   "cell_type": "code",
   "execution_count": 50,
   "metadata": {},
   "outputs": [
    {
     "data": {
      "image/png": "[encoded data removed]",
      "text/plain": [
       "<Figure size 432x288 with 1 Axes>"
      ]
     },
     "metadata": {
      "needs_background": "light"
     },
     "output_type": "display_data"
    }
   ],
   "source": [
    "plt.semilogx(x, circular_velocity_SC)\n",
    "plt.semilogx(x, circular_velocity_BH)\n",
    "plt.semilogx(x, circular_velocity_C)\n",
    "plt.xlabel('Log(r)')\n",
    "plt.ylabel('V km/s')\n",
    "plt.savefig('a1q2.png')\n",
    "plt.show()\n",
    "plt.close()"
   ]
  }
 ],
 "metadata": {
  "kernelspec": {
   "display_name": "Python 3",
   "language": "python",
   "name": "python3"
  },
  "language_info": {
   "codemirror_mode": {
    "name": "ipython",
    "version": 3
   },
   "file_extension": ".py",
   "mimetype": "text/x-python",
   "name": "python",
   "nbconvert_exporter": "python",
   "pygments_lexer": "ipython3",
   "version": "3.7.4"
  }
 },
 "nbformat": 4,
 "nbformat_minor": 4
}
